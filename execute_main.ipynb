{
 "cells": [
  {
   "cell_type": "code",
   "execution_count": 10,
   "id": "09d50833",
   "metadata": {},
   "outputs": [
    {
     "name": "stdout",
     "output_type": "stream",
     "text": [
      "The autoreload extension is already loaded. To reload it, use:\n",
      "  %reload_ext autoreload\n"
     ]
    }
   ],
   "source": [
    "%load_ext autoreload\n",
    "%autoreload 2"
   ]
  },
  {
   "cell_type": "code",
   "execution_count": 11,
   "id": "c367b190",
   "metadata": {},
   "outputs": [],
   "source": [
    "import sys # Ensure the src folder is in the path\n",
    "project_path = '/Users/daniela/Documents/swan/swan_model_builder_tool'\n",
    "sys.path.append(project_path)"
   ]
  },
  {
   "cell_type": "code",
   "execution_count": 12,
   "id": "54569b24",
   "metadata": {},
   "outputs": [],
   "source": [
    "import yaml\n",
    "config_path = f'{project_path}/experiments_specs.txt'\n",
    "with open(config_path, \"r\") as f:\n",
    "    config = yaml.safe_load(f)"
   ]
  },
  {
   "cell_type": "code",
   "execution_count": 13,
   "id": "06a3dc3e",
   "metadata": {},
   "outputs": [],
   "source": [
    "def create_main_directories(config):\n",
    "    import os\n",
    "    base_path = config['base']['path']\n",
    "    output_dir = base_path + config['output']['directory']\n",
    "\n",
    "    for folder in config['output']['data'].values():\n",
    "        dir = f'{output_dir}/{folder}'\n",
    "        if not os.path.isdir(dir):\n",
    "            print(f'Creating file {dir}')\n",
    "            os.makedirs(dir, exist_ok=True)\n",
    "        else:\n",
    "            print(f'{dir} already exists')\n",
    "    \n",
    "    for folder in config['output']['subdirectories']:\n",
    "        dir = f'{output_dir}/{folder}'\n",
    "        if not os.path.isdir(dir):\n",
    "            print(f'Creating file {dir}')\n",
    "            os.makedirs(dir, exist_ok=True)\n",
    "        else:\n",
    "            print(f'{dir} already exists')"
   ]
  },
  {
   "cell_type": "code",
   "execution_count": 14,
   "id": "eced12e1",
   "metadata": {},
   "outputs": [
    {
     "name": "stdout",
     "output_type": "stream",
     "text": [
      "/Users/daniela/Documents/swan/swan_experiments/run_storm_event_peru_waverys_dec_2024/DATA/WIND already exists\n",
      "/Users/daniela/Documents/swan/swan_experiments/run_storm_event_peru_waverys_dec_2024/DATA/WAVE already exists\n",
      "/Users/daniela/Documents/swan/swan_experiments/run_storm_event_peru_waverys_dec_2024/DATA/BATHY already exists\n",
      "/Users/daniela/Documents/swan/swan_experiments/run_storm_event_peru_waverys_dec_2024/QGIS already exists\n",
      "/Users/daniela/Documents/swan/swan_experiments/run_storm_event_peru_waverys_dec_2024/SWAN/01_geometry already exists\n",
      "/Users/daniela/Documents/swan/swan_experiments/run_storm_event_peru_waverys_dec_2024/SWAN/02_bc_dbase already exists\n",
      "/Users/daniela/Documents/swan/swan_experiments/run_storm_event_peru_waverys_dec_2024/SWAN/03_simulation already exists\n",
      "/Users/daniela/Documents/swan/swan_experiments/run_storm_event_peru_waverys_dec_2024/SWAN/04_results already exists\n"
     ]
    }
   ],
   "source": [
    "create_main_directories(config)"
   ]
  },
  {
   "cell_type": "code",
   "execution_count": 39,
   "id": "819f076d",
   "metadata": {},
   "outputs": [
    {
     "name": "stdout",
     "output_type": "stream",
     "text": [
      "Configuration file generated: /Users/daniela/Documents/swan/swan_experiments/run_storm_event_peru_waverys_dec_2024/SWAN/CONFIG.ini\n"
     ]
    }
   ],
   "source": [
    "import generate_config as gc\n",
    "gc.main(config_path)"
   ]
  },
  {
   "cell_type": "code",
   "execution_count": 40,
   "id": "4f474454",
   "metadata": {},
   "outputs": [
    {
     "name": "stdout",
     "output_type": "stream",
     "text": [
      "Grids saved to: /Users/daniela/Documents/swan/swan_experiments/run_storm_event_peru_waverys_dec_2024/QGIS/swan_grids.shp\n"
     ]
    },
    {
     "name": "stderr",
     "output_type": "stream",
     "text": [
      "/Users/daniela/Documents/swan/swan_model_builder_tool/create_grid.py:82: UserWarning: Column names longer than 10 characters will be truncated when saved to ESRI Shapefile.\n",
      "  combined_grids.to_file(output_dir / 'swan_grids.shp')\n",
      "/Users/daniela/Documents/swan/swan_model_builder_tool/.venv/lib/python3.9/site-packages/pyogrio/raw.py:723: RuntimeWarning: Normalized/laundered field name: 'grid_points' to 'grid_point'\n",
      "  ogr_write(\n",
      "/Users/daniela/Documents/swan/swan_model_builder_tool/.venv/lib/python3.9/site-packages/pyogrio/raw.py:723: RuntimeWarning: Value '[(np.float64(-80.49374404710858), np.float64(-22.326407046385096)), (np.float64(-79.58743626007193), np.float64(-21.903788784644398)), (np.float64(-78.68112847303529), np.float64(-21.481170522903696)), (np.float64(-77.77482068599863), np.float64(-21.058552261162998)), (np.float64(-76.86851289896198), np.float64(-20.6359339994223)), (np.float64(-75.96220511192533), np.float64(-20.213315737681597)), (np.float64(-75.05589732488868), np.float64(-19.7906974759409)), (np.float64(-74.14958953785202), np.float64(-19.3680792142002)), (np.float64(-73.24328175081538), np.float64(-18.9454609524595)), (np.float64(-72.33697396377873), np.float64(-18.5228426907188)), (np.float64(-71.43066617674208), np.float64(-18.100224428978102)), (np.float64(-70.52435838970543), np.float64(-17.6776061672374)), (np.float64(-69.61805060266877), np.float64(-17.2549879054967)), (np.float64(-68.71174281563214), np.float64(-16.832369643756003)), (np.float64(-67.80543502859548), np.float64(-16.4097513820153)), (np.float64(-66.89912724155883), np.float64(-15.987133120274603)), (np.float64(-80.91636230884927), np.float64(-21.420099259348447)), (np.float64(-80.01005452181263), np.float64(-20.997480997607745)), (np.float64(-79.10374673477598), np.float64(-20.574862735867047)), (np.float64(-78.19743894773933), np.float64(-20.15224447412635)), (np.float64(-77.29113116070268), np.float64(-19.729626212385647)), (np.float64(-76.38482337366602), np.float64(-19.307007950644948)), (np.float64(-75.47851558662938), np.float64(-18.88438968890425)), (np.float64(-74.57220779959273), np.float64(-18.461771427163548)), (np.float64(-73.66590001255608), np.float64(-18.03915316542285)), (np.float64(-72.75959222551943), np.float64(-17.61653490368215)), (np.float64(-71.85328443848277), np.float64(-17.19391664194145)), (np.float64(-70.94697665144614), np.float64(-16.77129838020075)), (np.float64(-70.04066886440948), np.float64(-16.348680118460052)), (np.float64(-69.13436107737283), np.float64(-15.926061856719352)), (np.float64(-68.22805329033618), np.float64(-15.503443594978654)), (np.float64(-67.32174550329952), np.float64(-15.080825333237954)), (np.float64(-81.33898057058998), np.float64(-20.513791472311794)), (np.float64(-80.43267278355333), np.float64(-20.091173210571096)), (np.float64(-79.52636499651668), np.float64(-19.668554948830398)), (np.float64(-78.62005720948002), np.float64(-19.245936687089696)), (np.float64(-77.71374942244339), np.float64(-18.823318425348997)), (np.float64(-76.80744163540673), np.float64(-18.4007001636083)), (np.float64(-75.90113384837008), np.float64(-17.978081901867597)), (np.float64(-74.99482606133343), np.float64(-17.5554636401269)), (np.float64(-74.08851827429677), np.float64(-17.1328453783862)), (np.float64(-73.18221048726014), np.float64(-16.7102271166455)), (np.float64(-72.27590270022348), np.float64(-16.2876088549048)), (np.float64(-71.36959491318683), np.float64(-15.864990593164102)), (np.float64(-70.46328712615018), np.float64(-15.442372331423403)), (np.float64(-69.55697933911352), np.float64(-15.019754069682703)), (np.float64(-68.65067155207689), np.float64(-14.597135807942003)), (np.float64(-67.74436376504023), np.float64(-14.174517546201304)), (np.float64(-81.76159883233068), np.float64(-19.607483685275145)), (np.float64(-80.85529104529402), np.float64(-19.184865423534447)), (np.float64(-79.94898325825739), np.float64(-18.762247161793745)), (np.float64(-79.04267547122073), np.float64(-18.339628900053047)), (np.float64(-78.13636768418408), np.float64(-17.917010638312348)), (np.float64(-77.23005989714743), np.float64(-17.494392376571646)), (np.float64(-76.32375211011077), np.float64(-17.071774114830948)), (np.float64(-75.41744432307412), np.float64(-16.64915585309025)), (np.float64(-74.51113653603748), np.float64(-16.226537591349548)), (np.float64(-73.60482874900083), np.float64(-15.80391932960885)), (np.float64(-72.69852096196418), np.float64(-15.38130106786815)), (np.float64(-71.79221317492753), np.float64(-14.958682806127452)), (np.float64(-70.88590538789087), np.float64(-14.536064544386752)), (np.float64(-69.97959760085423), np.float64(-14.113446282646052)), (np.float64(-69.07328981381758), np.float64(-13.690828020905354)), (np.float64(-68.16698202678093), np.float64(-13.268209759164654)), (np.float64(-82.18421709407137), np.float64(-18.701175898238496)), (np.float64(-81.27790930703473), np.float64(-18.278557636497794)), (np.float64(-80.37160151999808), np.float64(-17.855939374757096)), (np.float64(-79.46529373296143), np.float64(-17.433321113016397)), (np.float64(-78.55898594592477), np.float64(-17.010702851275695)), (np.float64(-77.65267815888812), np.float64(-16.588084589534997)), (np.float64(-76.74637037185148), np.float64(-16.1654663277943)), (np.float64(-75.84006258481483), np.float64(-15.7428480660536)), (np.float64(-74.93375479777818), np.float64(-15.320229804312898)), (np.float64(-74.02744701074153), np.float64(-14.8976115425722)), (np.float64(-73.12113922370487), np.float64(-14.474993280831502)), (np.float64(-72.21483143666823), np.float64(-14.052375019090801)), (np.float64(-71.30852364963158), np.float64(-13.629756757350101)), (np.float64(-70.40221586259493), np.float64(-13.207138495609403)), (np.float64(-69.49590807555828), np.float64(-12.784520233868703)), (np.float64(-68.58960028852162), np.float64(-12.361901972128003)), (np.float64(-82.60683535581208), np.float64(-17.794868111201843)), (np.float64(-81.70052756877543), np.float64(-17.372249849461145)), (np.float64(-80.79421978173878), np.float64(-16.949631587720447)), (np.float64(-79.88791199470212), np.float64(-16.52701332597975)), (np.float64(-78.98160420766548), np.float64(-16.10439506423905)), (np.float64(-78.07529642062883), np.float64(-15.681776802498348)), (np.float64(-77.16898863359218), np.float64(-15.25915854075765)), (np.float64(-76.26268084655553), np.float64(-14.83654027901695)), (np.float64(-75.35637305951887), np.float64(-14.41392201727625)), (np.float64(-74.45006527248222), np.float64(-13.99130375553555)), (np.float64(-73.54375748544558), np.float64(-13.56868549379485)), (np.float64(-72.63744969840893), np.float64(-13.14606723205415)), (np.float64(-71.73114191137228), np.float64(-12.723448970313452)), (np.float64(-70.82483412433562), np.float64(-12.300830708572754)), (np.float64(-69.91852633729897), np.float64(-11.878212446832054)), (np.float64(-69.01221855026233), np.float64(-11.455594185091353)), (np.float64(-83.02945361755278), np.float64(-16.888560324165198)), (np.float64(-82.12314583051612), np.float64(-16.465942062424496)), (np.float64(-81.21683804347947), np.float64(-16.043323800683797)), (np.float64(-80.31053025644283), np.float64(-15.620705538943097)), (np.float64(-79.40422246940618), np.float64(-15.198087277202397)), (np.float64(-78.49791468236953), np.float64(-14.775469015461699)), (np.float64(-77.59160689533287), np.float64(-14.352850753720999)), (np.float64(-76.68529910829622), np.float64(-13.930232491980298)), (np.float64(-75.77899132125958), np.float64(-13.5076142302396)), (np.float64(-74.87268353422293), np.float64(-13.084995968498902)), (np.float64(-73.96637574718628), np.float64(-12.662377706758202)), (np.float64(-73.06006796014962), np.float64(-12.239759445017501)), (np.float64(-72.15376017311297), np.float64(-11.817141183276803)), (np.float64(-71.24745238607633), np.float64(-11.394522921536103)), (np.float64(-70.34114459903968), np.float64(-10.971904659795403)), (np.float64(-69.43483681200303), np.float64(-10.549286398054704)), (np.float64(-83.45207187929347), np.float64(-15.982252537128545)), (np.float64(-82.54576409225683), np.float64(-15.559634275387847)), (np.float64(-81.63945630522018), np.float64(-15.137016013647147)), (np.float64(-80.73314851818353), np.float64(-14.714397751906446)), (np.float64(-79.82684073114687), np.float64(-14.291779490165748)), (np.float64(-78.92053294411022), np.float64(-13.86916122842505)), (np.float64(-78.01422515707358), np.float64(-13.44654296668435)), (np.float64(-77.10791737003693), np.float64(-13.02392470494365)), (np.float64(-76.20160958300028), np.float64(-12.601306443202951)), (np.float64(-75.29530179596362), np.float64(-12.17868818146225)), (np.float64(-74.38899400892697), np.float64(-11.75606991972155)), (np.float64(-73.48268622189033), np.float64(-11.333451657980852)), (np.float64(-72.57637843485368), np.float64(-10.910833396240152)), (np.float64(-71.67007064781703), np.float64(-10.488215134499454)), (np.float64(-70.76376286078037), np.float64(-10.065596872758753)), (np.float64(-69.85745507374372), np.float64(-9.642978611018053)), (np.float64(-83.87469014103418), np.float64(-15.075944750091896)), (np.float64(-82.96838235399753), np.float64(-14.653326488351196)), (np.float64(-82.06207456696087), np.float64(-14.230708226610497)), (np.float64(-81.15576677992422), np.float64(-13.808089964869797)), (np.float64(-80.24945899288758), np.float64(-13.385471703129099)), (np.float64(-79.34315120585093), np.float64(-12.962853441388399)), (np.float64(-78.43684341881428), np.float64(-12.540235179647699)), (np.float64(-77.53053563177762), np.float64(-12.117616917907)), (np.float64(-76.62422784474097), np.float64(-11.6949986561663)), (np.float64(-75.71792005770432), np.float64(-11.272380394425602)), (np.float64(-74.81161227066768), np.float64(-10.849762132684901)), (np.float64(-73.90530448363103), np.float64(-10.427143870944201)), (np.float64(-72.99899669659438), np.float64(-10.004525609203503)), (np.float64(-72.09268890955772), np.float64(-9.581907347462803)), (np.float64(-71.18638112252107), np.float64(-9.159289085722104)), (np.float64(-70.28007333548443), np.float64(-8.736670823981404)), (np.float64(-84.29730840277487), np.float64(-14.169636963055247)), (np.float64(-83.39100061573822), np.float64(-13.747018701314547)), (np.float64(-82.48469282870157), np.float64(-13.324400439573846)), (np.float64(-81.57838504166493), np.float64(-12.901782177833148)), (np.float64(-80.67207725462828), np.float64(-12.479163916092448)), (np.float64(-79.76576946759162), np.float64(-12.056545654351748)), (np.float64(-78.85946168055497), np.float64(-11.63392739261105)), (np.float64(-77.95315389351832), np.float64(-11.21130913087035)), (np.float64(-77.04684610648168), np.float64(-10.78869086912965)), (np.float64(-76.14053831944503), np.float64(-10.36607260738895)), (np.float64(-75.23423053240838), np.float64(-9.943454345648252)), (np.float64(-74.32792274537172), np.float64(-9.520836083907552)), (np.float64(-73.42161495833507), np.float64(-9.098217822166852)), (np.float64(-72.51530717129843), np.float64(-8.675599560426154)), (np.float64(-71.60899938426178), np.float64(-8.252981298685453)), (np.float64(-70.70269159722513), np.float64(-7.830363036944754)), (np.float64(-84.71992666451557), np.float64(-13.263329176018596)), (np.float64(-83.81361887747893), np.float64(-12.840710914277896)), (np.float64(-82.90731109044228), np.float64(-12.418092652537197)), (np.float64(-82.00100330340562), np.float64(-11.995474390796497)), (np.float64(-81.09469551636897), np.float64(-11.572856129055799)), (np.float64(-80.18838772933232), np.float64(-11.150237867315099)), (np.float64(-79.28207994229568), np.float64(-10.727619605574398)), (np.float64(-78.37577215525903), np.float64(-10.3050013438337)), (np.float64(-77.46946436822238), np.float64(-9.882383082093)), (np.float64(-76.56315658118572), np.float64(-9.459764820352301)), (np.float64(-75.65684879414907), np.float64(-9.037146558611601)), (np.float64(-74.75054100711242), np.float64(-8.614528296870901)), (np.float64(-73.84423322007578), np.float64(-8.191910035130203)), (np.float64(-72.93792543303913), np.float64(-7.769291773389503)), (np.float64(-72.03161764600247), np.float64(-7.346673511648804)), (np.float64(-71.12530985896582), np.float64(-6.924055249908104)), (np.float64(-85.14254492625628), np.float64(-12.357021388981947)), (np.float64(-84.23623713921963), np.float64(-11.934403127241247)), (np.float64(-83.32992935218297), np.float64(-11.511784865500546)), (np.float64(-82.42362156514632), np.float64(-11.089166603759848)), (np.float64(-81.51731377810967), np.float64(-10.666548342019148)), (np.float64(-80.61100599107303), np.float64(-10.24393008027845)), (np.float64(-79.70469820403638), np.float64(-9.82131181853775)), (np.float64(-78.79839041699972), np.float64(-9.398693556797049)), (np.float64(-77.89208262996307), np.float64(-8.97607529505635)), (np.float64(-76.98577484292642), np.float64(-8.55345703331565)), (np.float64(-76.07946705588978), np.float64(-8.13083877157495)), (np.float64(-75.17315926885313), np.float64(-7.708220509834252)), (np.float64(-74.26685148181647), np.float64(-7.285602248093553)), (np.float64(-73.36054369477982), np.float64(-6.8629839863528534)), (np.float64(-72.45423590774317), np.float64(-6.440365724612154)), (np.float64(-71.54792812070653), np.float64(-6.017747462871454)), (np.float64(-85.56516318799697), np.float64(-11.450713601945296)), (np.float64(-84.65885540096032), np.float64(-11.028095340204597)), (np.float64(-83.75254761392367), np.float64(-10.605477078463897)), (np.float64(-82.84623982688703), np.float64(-10.182858816723197)), (np.float64(-81.93993203985038), np.float64(-9.760240554982499)), (np.float64(-81.03362425281372), np.float64(-9.337622293241798)), (np.float64(-80.12731646577707), np.float64(-8.915004031501098)), (np.float64(-79.22100867874042), np.float64(-8.4923857697604)), (np.float64(-78.31470089170378), np.float64(-8.069767508019702)), (np.float64(-77.40839310466713), np.float64(-7.647149246279001)), (np.float64(-76.50208531763047), np.float64(-7.224530984538301)), (np.float64(-75.59577753059382), np.float64(-6.801912722797602)), (np.float64(-74.68946974355717), np.float64(-6.379294461056903)), (np.float64(-73.78316195652053), np.float64(-5.956676199316203)), (np.float64(-72.87685416948388), np.float64(-5.534057937575504)), (np.float64(-71.97054638244722), np.float64(-5.111439675834804)), (np.float64(-85.98778144973767), np.float64(-10.544405814908647)), (np.float64(-85.08147366270103), np.float64(-10.121787553167946)), (np.float64(-84.17516587566438), np.float64(-9.699169291427246)), (np.float64(-83.26885808862772), np.float64(-9.276551029686548)), (np.float64(-82.36255030159107), np.float64(-8.85393276794585)), (np.float64(-81.45624251455442), np.float64(-8.43131450620515)), (np.float64(-80.54993472751778), np.float64(-8.00869624446445)), (np.float64(-79.64362694048113), np.float64(-7.58607798272375)), (np.float64(-78.73731915344447), np.float64(-7.163459720983051)), (np.float64(-77.83101136640782), np.float64(-6.740841459242351)), (np.float64(-76.92470357937117), np.float64(-6.318223197501652)), (np.float64(-76.01839579233452), np.float64(-5.895604935760952)), (np.float64(-75.11208800529788), np.float64(-5.472986674020253)), (np.float64(-74.20578021826122), np.float64(-5.050368412279553)), (np.float64(-73.29947243122457), np.float64(-4.627750150538854)), (np.float64(-72.39316464418792), np.float64(-4.205131888798155)), (np.float64(-86.41039971147838), np.float64(-9.638098027871997)), (np.float64(-85.50409192444172), np.float64(-9.215479766131297)), (np.float64(-84.59778413740507), np.float64(-8.792861504390597)), (np.float64(-83.69147635036842), np.float64(-8.370243242649899)), (np.float64(-82.78516856333177), np.float64(-7.9476249809091986)), (np.float64(-81.87886077629513), np.float64(-7.525006719168499)), (np.float64(-80.97255298925847), np.float64(-7.1023884574278)), (np.float64(-80.06624520222182), np.float64(-6.679770195687101)), (np.float64(-79.15993741518517), np.float64(-6.257151933946401)), (np.float64(-78.25362962814852), np.float64(-5.834533672205701)), (np.float64(-77.34732184111188), np.float64(-5.411915410465002)), (np.float64(-76.44101405407523), np.float64(-4.989297148724303)), (np.float64(-75.53470626703857), np.float64(-4.5666788869836035)), (np.float64(-74.62839848000192), np.float64(-4.144060625242904)), (np.float64(-73.72209069296527), np.float64(-3.721442363502204)), (np.float64(-72.81578290592863), np.float64(-3.2988241017615048)), (np.float64(-86.83301797321907), np.float64(-8.731790240835346)), (np.float64(-85.92671018618242), np.float64(-8.309171979094646)), (np.float64(-85.02040239914577), np.float64(-7.886553717353948)), (np.float64(-84.11409461210913), np.float64(-7.463935455613248)), (np.float64(-83.20778682507247), np.float64(-7.0413171938725485)), (np.float64(-82.30147903803582), np.float64(-6.618698932131849)), (np.float64(-81.39517125099917), np.float64(-6.19608067039115)), (np.float64(-80.48886346396252), np.float64(-5.773462408650451)), (np.float64(-79.58255567692588), np.float64(-5.3508441469097505)), (np.float64(-78.67624788988923), np.float64(-4.928225885169051)), (np.float64(-77.76994010285257), np.float64(-4.505607623428352)), (np.float64(-76.86363231581592), np.float64(-4.082989361687653)), (np.float64(-75.95732452877927), np.float64(-3.6603710999469534)), (np.float64(-75.05101674174261), np.float64(-3.2377528382062533)), (np.float64(-74.14470895470598), np.float64(-2.815134576465555)), (np.float64(-73.23840116766932), np.float64(-2.3925163147248547)), (np.float64(-87.25563623495977), np.float64(-7.8254824537986964)), (np.float64(-86.34932844792311), np.float64(-7.402864192057997)), (np.float64(-85.44302066088648), np.float64(-6.980245930317297)), (np.float64(-84.53671287384982), np.float64(-6.557627668576598)), (np.float64(-83.63040508681317), np.float64(-6.1350094068358985)), (np.float64(-82.72409729977652), np.float64(-5.712391145095199)), (np.float64(-81.81778951273986), np.float64(-5.2897728833545)), (np.float64(-80.91148172570323), np.float64(-4.867154621613801)), (np.float64(-80.00517393866657), np.float64(-4.4445363598731005)), (np.float64(-79.09886615162992), np.float64(-4.021918098132401)), (np.float64(-78.19255836459327), np.float64(-3.599299836391702)), (np.float64(-77.28625057755661), np.float64(-3.1766815746510026)), (np.float64(-76.37994279051998), np.float64(-2.7540633129103025)), (np.float64(-75.47363500348332), np.float64(-2.331445051169604)), (np.float64(-74.56732721644667), np.float64(-1.908826789428904)), (np.float64(-73.66101942941002), np.float64(-1.4862085276882055)), (np.float64(-87.67825449670048), np.float64(-6.919174666762046)), (np.float64(-86.77194670966382), np.float64(-6.496556405021346)), (np.float64(-85.86563892262717), np.float64(-6.073938143280648)), (np.float64(-84.95933113559052), np.float64(-5.651319881539948)), (np.float64(-84.05302334855386), np.float64(-5.228701619799248)), (np.float64(-83.14671556151723), np.float64(-4.806083358058549)), (np.float64(-82.24040777448057), np.float64(-4.38346509631785)), (np.float64(-81.33409998744392), np.float64(-3.9608468345771506)), (np.float64(-80.42779220040727), np.float64(-3.5382285728364504)), (np.float64(-79.52148441337062), np.float64(-3.115610311095751)), (np.float64(-78.61517662633398), np.float64(-2.692992049355052)), (np.float64(-77.70886883929732), np.float64(-2.2703737876143517)), (np.float64(-76.80256105226067), np.float64(-1.8477555258736533)), (np.float64(-75.89625326522402), np.float64(-1.4251372641329532)), (np.float64(-74.98994547818737), np.float64(-1.0025190023922548)), (np.float64(-74.08363769115073), np.float64(-0.5799007406515546)), (np.float64(-88.10087275844117), np.float64(-6.012866879725396)), (np.float64(-87.19456497140452), np.float64(-5.590248617984697)), (np.float64(-86.28825718436786), np.float64(-5.167630356243997)), (np.float64(-85.38194939733123), np.float64(-4.745012094503298)), (np.float64(-84.47564161029457), np.float64(-4.322393832762598)), (np.float64(-83.56933382325792), np.float64(-3.899775571021899)), (np.float64(-82.66302603622127), np.float64(-3.4771573092812)), (np.float64(-81.75671824918462), np.float64(-3.0545390475405005)), (np.float64(-80.85041046214798), np.float64(-2.6319207857998013)), (np.float64(-79.94410267511132), np.float64(-2.209302524059101)), (np.float64(-79.03779488807467), np.float64(-1.7866842623184027)), (np.float64(-78.13148710103802), np.float64(-1.3640660005777026)), (np.float64(-77.22517931400137), np.float64(-0.9414477388370024)), (np.float64(-76.31887152696471), np.float64(-0.518829477096304)), (np.float64(-75.41256373992807), np.float64(-0.09621121535560384)), (np.float64(-74.50625595289142), np.float64(0.3264070463850963))]' of field grid_point has been truncated to 254 characters.  This warning will not be emitted any more for that layer.\n",
      "  ogr_write(\n"
     ]
    }
   ],
   "source": [
    "import create_grid as cg\n",
    "cg.main(config_path)"
   ]
  },
  {
   "cell_type": "code",
   "execution_count": 42,
   "id": "868b84d3",
   "metadata": {},
   "outputs": [
    {
     "name": "stdout",
     "output_type": "stream",
     "text": [
      "\n",
      "Figure saved to: /Users/daniela/Documents/swan/swan_experiments/run_storm_event_peru_waverys_dec_2024/QGIS/swan_grids.png\n"
     ]
    }
   ],
   "source": [
    "import plot_grids as pg\n",
    "pg.main(config_path)"
   ]
  },
  {
   "cell_type": "markdown",
   "id": "ecff085f",
   "metadata": {},
   "source": [
    "### TODO agregar las celdas de la bajada de datos"
   ]
  },
  {
   "cell_type": "code",
   "execution_count": 43,
   "id": "73115fb4",
   "metadata": {},
   "outputs": [],
   "source": [
    "import build_and_run as br"
   ]
  },
  {
   "cell_type": "code",
   "execution_count": 44,
   "id": "d0e50897",
   "metadata": {},
   "outputs": [
    {
     "name": "stdout",
     "output_type": "stream",
     "text": [
      "Checking required files:\n",
      "Bathymetry: /Users/daniela/Documents/swan/swan_experiments/run_storm_event_peru_waverys_dec_2024/DATA/BATHY/gebco_2024_n-2.0_s-20.0_w-85.0_e-70.0.tif\n",
      "Wind: /Users/daniela/Documents/swan/swan_experiments/run_storm_event_peru_waverys_dec_2024/DATA/WIND/wind_data_hourly_2024-12-01_2025-01-31_-85.0_-70.0_-20.0_-2.0.nc\n",
      "Wave: /Users/daniela/Documents/swan/swan_experiments/run_storm_event_peru_waverys_dec_2024/DATA/WAVE/wave_data_hourly_2024-12-01_2025-01-31_-85.0_-70.0_-20.0_-2.0.nc\n",
      "Grid: /Users/daniela/Documents/swan/swan_experiments/run_storm_event_peru_waverys_dec_2024/QGIS/swan_grids.shp\n",
      "/Users/daniela/Documents/swan/swan_experiments/run_storm_event_peru_waverys_dec_2024\n",
      "1733011200.0\n",
      "<class 'numpy.float64'>\n",
      "1733011200.0\n",
      "<class 'numpy.float64'>\n",
      "Variable time found\n"
     ]
    },
    {
     "name": "stderr",
     "output_type": "stream",
     "text": [
      "ERROR 1: JSON parsing error: unexpected end of data (at offset 0)\n"
     ]
    },
    {
     "name": "stdout",
     "output_type": "stream",
     "text": [
      "Variable time found\n",
      "Variable time found\n"
     ]
    }
   ],
   "source": [
    "br.main(config_path)"
   ]
  }
 ],
 "metadata": {
  "kernelspec": {
   "display_name": ".venv",
   "language": "python",
   "name": "python3"
  },
  "language_info": {
   "codemirror_mode": {
    "name": "ipython",
    "version": 3
   },
   "file_extension": ".py",
   "mimetype": "text/x-python",
   "name": "python",
   "nbconvert_exporter": "python",
   "pygments_lexer": "ipython3",
   "version": "3.9.22"
  }
 },
 "nbformat": 4,
 "nbformat_minor": 5
}
